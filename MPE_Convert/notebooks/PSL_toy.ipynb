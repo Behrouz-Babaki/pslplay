{
 "metadata": {
  "name": ""
 },
 "nbformat": 3,
 "nbformat_minor": 0,
 "worksheets": [
  {
   "cells": [
    {
     "cell_type": "markdown",
     "metadata": {},
     "source": [
      "Ok. So we want to solve this optimization problem:\n",
      "\n",
      "\\begin{align}\n",
      "\\mathit{Min.} \\, dr & \\\\\n",
      "& Q = \\frac{1}{3+x} \\\\\n",
      "& dr \\geq Q-x \\\\\n",
      "& 0 \\leq x \\leq 1 \\\\\n",
      "& 0 \\leq dr\n",
      "\\end{align}\n",
      "\n",
      "First we will do some very simple transformations to represent the problem in the standard format. I'm going to rename variables $x, dr, Q$ by $x_0, x_1, x_2$. Since I know that $0 \\leq Q \\leq 1$, I also add this to the problem. \n",
      "\n",
      "\\begin{align}\n",
      "\\mathit{Min.} \\, x_1 & \\\\\n",
      "& x_2 \\times (3+x_0) - 1 = 0 \\\\\n",
      "& -x_0-x_1+x_2 \\leq 0 \\\\\n",
      "& 0 \\leq x_0 \\leq 1 \\\\\n",
      "& 0 \\leq x_1 \\\\\n",
      "& 0 \\leq x_2 \\leq 1\n",
      "\\end{align}\n",
      "\n",
      "Now we can directly give this to pyOpt"
     ]
    },
    {
     "cell_type": "code",
     "collapsed": false,
     "input": [
      "import pyOpt\n",
      "\n",
      "def toy_obj(x):\n",
      "    f = x[1]\n",
      "    g = [0.0]*2\n",
      "    g[0] = x[2]*(3+x[0])-1\n",
      "    g[1] = -x[0]-x[1]+x[2]\n",
      "    \n",
      "    fail = 0\n",
      "    return f, g, fail"
     ],
     "language": "python",
     "metadata": {},
     "outputs": [],
     "prompt_number": 1
    },
    {
     "cell_type": "markdown",
     "metadata": {},
     "source": [
      "the function *toy_obj* provides the objective function (as *f*) and constraints (as list *g*) to the solver. Next, we set up an optimization problem. When declaring the optimization variables, we also set their bounds:"
     ]
    },
    {
     "cell_type": "code",
     "collapsed": false,
     "input": [
      "opt_prob = pyOpt.Optimization('toy example', toy_obj)\n",
      "opt_prob.addObj('f')\n",
      "opt_prob.addVar('x0', 'c', lower=0.0, upper=1.0, value=0.5)\n",
      "opt_prob.addVar('x1', 'c', lower=0.0, value=0.5)\n",
      "opt_prob.addVar('x2', 'c', lower=0.0, upper=1.0, value=0.5)"
     ],
     "language": "python",
     "metadata": {},
     "outputs": [],
     "prompt_number": 2
    },
    {
     "cell_type": "markdown",
     "metadata": {},
     "source": [
      "When declaring constraints, we let the solver know that the first constraint is an *equality* constraint, and the second is an *inequality* constraint:"
     ]
    },
    {
     "cell_type": "code",
     "collapsed": false,
     "input": [
      "opt_prob.addCon('g0', 'e')\n",
      "opt_prob.addCon('g1', 'i')\n",
      "# print opt_prob"
     ],
     "language": "python",
     "metadata": {},
     "outputs": [],
     "prompt_number": 3
    },
    {
     "cell_type": "markdown",
     "metadata": {},
     "source": [
      "Finally, we choose the optimization method and solve the problem:"
     ]
    },
    {
     "cell_type": "code",
     "collapsed": false,
     "input": [
      "slsqp = pyOpt.SLSQP()\n",
      "slsqp.setOption('IPRINT', -1)\n",
      "[fstr, xstr, inform] = slsqp(opt_prob, sens_type='FD')\n",
      "print opt_prob.solution(0)"
     ],
     "language": "python",
     "metadata": {},
     "outputs": [
      {
       "output_type": "stream",
       "stream": "stdout",
       "text": [
        "\n",
        "SLSQP Solution to toy example\n",
        "================================================================================\n",
        "\n",
        "        Objective Function: toy_obj\n",
        "\n",
        "    Solution: \n",
        "--------------------------------------------------------------------------------\n",
        "    Total Time:                    0.0003\n",
        "    Total Function Evaluations:          \n",
        "    Sensitivities:        FD\n",
        "\n",
        "    Objectives:\n",
        "        Name        Value        Optimum\n",
        "\t     f     3.93735e-15             0\n",
        "\n",
        "\tVariables (c - continuous, i - integer, d - discrete):\n",
        "        Name    Type       Value       Lower Bound  Upper Bound\n",
        "\t     x0       c\t      0.469850       0.00e+00     1.00e+00 \n",
        "\t     x1       c\t      0.000000       0.00e+00     1.00e+21 \n",
        "\t     x2       c\t      0.288197       0.00e+00     1.00e+00 \n",
        "\n",
        "\tConstraints (i - inequality, e - equality):\n",
        "        Name    Type                    Bounds\n",
        "\t     g0       e                0.000000 = 0.00e+00\n",
        "\t     g1   \t  i       -1.00e+21 <= -0.181653 <= 0.00e+00\n",
        "\n",
        "--------------------------------------------------------------------------------\n",
        "\n"
       ]
      }
     ],
     "prompt_number": 4
    },
    {
     "cell_type": "markdown",
     "metadata": {},
     "source": [
      "Based on the solver results, these are the optimal values:\n",
      "\n",
      "\n",
      "\\begin{align}\n",
      "& x = 0.469850 \\\\ \n",
      "& dr = 0 \\\\\n",
      "& Q = 0.288197\n",
      "\\end{align}\n",
      "\n",
      "Since this was different from your result ($x = -3 + (\\sqrt{13}/2)$), I tried to compute the $dr$ for your value of $x$: \n",
      "\n",
      "$Q$ is defined in terms of $x$ ($Q = \\frac{1}{3+x}$) and we have $dr \\geq Q-x$. The value of $Q-x$ is: "
     ]
    },
    {
     "cell_type": "code",
     "collapsed": false,
     "input": [
      "from math import sqrt\n",
      "x = -3 + (sqrt(13)/2)\n",
      "Q = 1/(3+x)\n",
      "print Q-x"
     ],
     "language": "python",
     "metadata": {},
     "outputs": [
      {
       "output_type": "stream",
       "stream": "stdout",
       "text": [
        "1.75192455849\n"
       ]
      }
     ],
     "prompt_number": 5
    },
    {
     "cell_type": "markdown",
     "metadata": {},
     "source": [
      "And since $\\mathit{dr} \\geq Q-x$, $\\mathit{dr}$ should be at least 1.7519, which is larger than the value obtained by the solver. "
     ]
    }
   ],
   "metadata": {}
  }
 ]
}