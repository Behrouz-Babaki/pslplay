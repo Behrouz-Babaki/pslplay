{
 "metadata": {
  "name": ""
 },
 "nbformat": 3,
 "nbformat_minor": 0,
 "worksheets": [
  {
   "cells": [
    {
     "cell_type": "code",
     "collapsed": false,
     "input": [
      "people_rel = dict()\n",
      "with open('./people.csv') as people_file:\n",
      "    people_file.readline()\n",
      "    for line in people_file:\n",
      "        line = line.strip().split(',')\n",
      "        current_tuple = [int(line[0]), line[1]]\n",
      "        people_rel[current_tuple[0]] = current_tuple[1]\n",
      "\n",
      "for key in people_rel.keys()[:5]:\n",
      "    print key, people_rel[key]"
     ],
     "language": "python",
     "metadata": {},
     "outputs": [
      {
       "output_type": "stream",
       "stream": "stdout",
       "text": [
        "1 James\n",
        "2 John\n",
        "3 Mary\n",
        "4 Patricia\n",
        "5 Robert\n"
       ]
      }
     ],
     "prompt_number": 56
    },
    {
     "cell_type": "code",
     "collapsed": false,
     "input": [
      "var_cnt = 0\n",
      "knows_rel = dict()\n",
      "with open('./knows.csv') as knows_file:\n",
      "    knows_file.readline()\n",
      "    for line in knows_file:\n",
      "        line = line.strip().split(',')\n",
      "        current_tuple = [int(line[0]), int(line[1]), float(line[2])]\n",
      "        knows_rel[(current_tuple[0], current_tuple[1])] = (True, current_tuple[2])\n",
      "for person1 in people_rel:\n",
      "    for person2 in people_rel:\n",
      "        current_tuple = (person1, person2)\n",
      "        if not current_tuple in knows_rel:\n",
      "            knows_rel[current_tuple] = (False, var_cnt)\n",
      "            var_cnt += 1\n",
      "\n",
      "for key in knows_rel.keys()[:5]:\n",
      "    print key, knows_rel[key]"
     ],
     "language": "python",
     "metadata": {},
     "outputs": [
      {
       "output_type": "stream",
       "stream": "stdout",
       "text": [
        "(7, 3) (False, 33)\n",
        "(4, 7) (False, 20)\n",
        "(1, 3) (False, 2)\n",
        "(6, 6) (True, 0.14)\n",
        "(5, 6) (False, 24)\n"
       ]
      }
     ],
     "prompt_number": 58
    },
    {
     "cell_type": "code",
     "collapsed": false,
     "input": [
      "trusts_rel = dict()\n",
      "with open('./trusts.csv') as knows_file:\n",
      "    knows_file.readline()\n",
      "    for line in knows_file:\n",
      "        line = line.strip().split(',')\n",
      "        current_tuple = [int(line[0]), int(line[1]), float(line[2])]\n",
      "        trusts_rel[(current_tuple[0], current_tuple[1])] = (True, current_tuple[2])\n",
      "for person1 in people_rel:\n",
      "    for person2 in people_rel:\n",
      "        current_tuple = (person1, person2)\n",
      "        if not current_tuple in trusts_rel:\n",
      "            trusts_rel[current_tuple] = (False, var_cnt)\n",
      "            var_cnt += 1\n",
      "\n",
      "for key in trusts_rel.keys()[:5]:\n",
      "    print key, knows_rel[key]"
     ],
     "language": "python",
     "metadata": {},
     "outputs": [
      {
       "output_type": "stream",
       "stream": "stdout",
       "text": [
        "(7, 3) (False, 33)\n",
        "(4, 7) (False, 20)\n",
        "(1, 3) (False, 2)\n",
        "(6, 6) (True, 0.14)\n",
        "(5, 6) (False, 24)\n"
       ]
      }
     ],
     "prompt_number": 59
    },
    {
     "cell_type": "markdown",
     "metadata": {},
     "source": [
      "The first rule that we want to ground is:\n",
      "\n",
      "\\begin{equation}\n",
      "\\mathit{Knows} (A,B) \\land \\mathit{Knows} (B,A) \\land \\neg \\mathit{Trusts} (B,A) \\to \\neg \\mathit{Trusts} (A,B)\n",
      "\\end{equation}"
     ]
    },
    {
     "cell_type": "code",
     "collapsed": false,
     "input": [
      "ground_rules = [(knows_rel[(person1, person2)],\n",
      "                 knows_rel[(person2, person1)],\n",
      "                 trusts_rel[(person2, person1)],\n",
      "                 trusts_rel[(person1, person2)])\n",
      "                for person1 in people_rel for person2 in people_rel]"
     ],
     "language": "python",
     "metadata": {},
     "outputs": [],
     "prompt_number": 60
    },
    {
     "cell_type": "markdown",
     "metadata": {},
     "source": [
      "I'm performing the logical operations in this order:\n",
      "\n",
      "\\begin{equation}\n",
      "    M_1 = \\mathit{Knows} (A,B) \\land \\mathit{Knows} (B,A) \\\\\n",
      "    M_2 = M_1 \\land \\neg \\mathit{Trusts} (B,A) \\\\\n",
      "    \\mathit{Result} = \\neg M_2 \\lor \\neg \\mathit{Trusts} (A,B)\n",
      "\\end{equation}"
     ]
    },
    {
     "cell_type": "code",
     "collapsed": false,
     "input": [
      "weight1 = 1\n",
      "for F1, F2, F3, F4 in ground_rules:\n",
      "    M1 = psl_and(F1, F2)\n",
      "    M2 = psl_and(M1, F3, r_negated=True)\n",
      "    R = psl_or(M2, F4, l_negated=True, r_negated=True)\n",
      "    add_to_objective(R, weight1)"
     ],
     "language": "python",
     "metadata": {},
     "outputs": [
      {
       "output_type": "stream",
       "stream": "stdout",
       "text": [
        "                                                                                                                                                                        \n"
       ]
      }
     ],
     "prompt_number": 62
    },
    {
     "cell_type": "markdown",
     "metadata": {},
     "source": [
      "Similarly, we can add the rules that have the *Average* function in them:\n",
      "\n",
      "\\begin{equation}\n",
      "    \\mathit{Knows}(A,B) \\land \\mathit{Average} (\\{\\mathit{Trusts}\\}) \\to \\mathit{Trusts} (A,B)\n",
      "\\end{equation}\n"
     ]
    },
    {
     "cell_type": "code",
     "collapsed": false,
     "input": [
      "import numpy as np\n",
      "\n",
      "ground_rules = [(knows_rel[(person1, person2)],\n",
      "                 trusts_rel[(person1, person2)])\n",
      "                for person1 in people_rel for person2 in people_rel]\n",
      "\n",
      "average_trust = np.mean([value for (has_value, value) in trusts_rel if has_value])\n",
      "\n",
      "weight2 = 2\n",
      "for F1, F2 in ground_rules:\n",
      "    M1 = psl_and(F1, (True, average_trust))\n",
      "    R = psl_or(M1, F2, l_negated=True)\n",
      "    add_to_objective(R, weight2)"
     ],
     "language": "python",
     "metadata": {},
     "outputs": [
      {
       "output_type": "stream",
       "stream": "stdout",
       "text": [
        "                                                                                           \n"
       ]
      }
     ],
     "prompt_number": 64
    },
    {
     "cell_type": "code",
     "collapsed": false,
     "input": [
      "\n",
      "def psl_and(left, right, l_negated=False, r_negated=False):\n",
      "    # fix this by a global variable for now\n",
      "    var_cnt = 0\n",
      "    m, n = (left[1], right[1])\n",
      "    m_coef, n_coef = (1,1)\n",
      "    cons = 0\n",
      "    \n",
      "    if l_negated:\n",
      "        if left[0]:\n",
      "            m = 1-m\n",
      "        else:\n",
      "            m_coef = -1\n",
      "            cons += 1\n",
      "    \n",
      "    if r_negated:\n",
      "        if right[0]:\n",
      "            n = 1-n\n",
      "        else:\n",
      "            n_coef = -1\n",
      "            cons += 1\n",
      "        \n",
      "    if left[0] and right[0]:\n",
      "        return (True, max(0, m+n-1))\n",
      "    elif not left[0] and not right[0]:\n",
      "        y = var_cnt\n",
      "        var_cnt += 1\n",
      "        add_linear_constraint([m,n,y], [m_coef,n_coef,-1], cons-1)\n",
      "        return (False, y)\n",
      "    elif left[0] and not right[0]:\n",
      "        y = var_cnt\n",
      "        var_cnt += 1\n",
      "        add_linear_constraint([m,y], [m_coef,-1], cons+n-1)\n",
      "        return (False, y)\n",
      "    elif not left[0] and right[0]:\n",
      "        y = var_cnt\n",
      "        var_cnt += 1\n",
      "        add_linear_constraint([n,y], [n_coef,-1], cons+m-1)\n",
      "        return (False, y)\n",
      "    "
     ],
     "language": "python",
     "metadata": {},
     "outputs": [],
     "prompt_number": 53
    },
    {
     "cell_type": "code",
     "collapsed": false,
     "input": [
      "def psl_or(left, right, l_negated=False, r_negated=False):\n",
      "    # fix this by a global variable for now\n",
      "    var_cnt = 0\n",
      "    m, n = (left[1], right[1])\n",
      "    m_coef, n_coef = (-1,-1)\n",
      "    cons = 0\n",
      "    \n",
      "    if l_negated:\n",
      "        if left[0]:\n",
      "            m = 1-m\n",
      "        else:\n",
      "            m_coef = 1\n",
      "            cons -= 1\n",
      "    \n",
      "    if r_negated:\n",
      "        if right[0]:\n",
      "            n = 1-n\n",
      "        else:\n",
      "            n_coef = 1\n",
      "            cons -= 1\n",
      "        \n",
      "    if left[0] and right[0]:\n",
      "        return (True, max(0, m+n-1))\n",
      "    elif not left[0] and not right[0]:\n",
      "        y = var_cnt\n",
      "        var_cnt += 1\n",
      "        add_linear_constraint([m,n,y], [m_coef,n_coef,1], cons)\n",
      "        return (False, y)\n",
      "    elif left[0] and not right[0]:\n",
      "        y = var_cnt\n",
      "        var_cnt += 1\n",
      "        add_linear_constraint([m,y], [m_coef,1], cons+n-1)\n",
      "        return (False, y)\n",
      "    elif not left[0] and right[0]:\n",
      "        y = var_cnt\n",
      "        var_cnt += 1\n",
      "        add_linear_constraint([n,y], [n_coef,1], cons+m-1)\n",
      "        return (False, y)"
     ],
     "language": "python",
     "metadata": {},
     "outputs": [],
     "prompt_number": 52
    }
   ],
   "metadata": {}
  }
 ]
}