{
 "metadata": {
  "name": "",
  "signature": "sha256:768b922f5585718e3b9f635bb039eb1fcc4b2363e3d95a61ead04e9edec94c69"
 },
 "nbformat": 3,
 "nbformat_minor": 0,
 "worksheets": [
  {
   "cells": [
    {
     "cell_type": "code",
     "collapsed": false,
     "input": [
      "from __future__ import print_function\n",
      "class Math_prob:\n",
      "    def __init__(self):\n",
      "        self.num_vars = 0\n",
      "        self.num_cons_linear = 0\n",
      "        self.num_cons_nonlinear = 0\n",
      "        self.vars = dict()\n",
      "        self.cons_linear = dict()\n",
      "        self.objective = dict()\n",
      "    \n",
      "    def getvar(self, lower=0, upper=1):\n",
      "        self.vars[self.num_vars] = (lower, upper)\n",
      "        self.num_vars += 1\n",
      "        return self.num_vars - 1\n",
      "        \n",
      "    def add_linear_constraint(self, var_indices, var_coefs, constant):\n",
      "        self.cons_linear[self.num_cons_linear] = (var_indices, var_coefs, constant)\n",
      "        self.num_cons_linear += 1\n",
      "        return self.num_cons_linear - 1\n",
      "    \n",
      "    def add_to_objective(self, entity, weight):\n",
      "        if not entity[0]:\n",
      "            if entity[1] in self.objective:\n",
      "                self.objective[entity[1]] += weight\n",
      "            else:\n",
      "                self.objective[entity[1]] = weight\n",
      "    \n",
      "    def print_cons_linear(self):\n",
      "        for cons in self.cons_linear:\n",
      "            print ('%d:\\t' %(cons), end='')\n",
      "            v, co, c = self.cons_linear[cons]\n",
      "            for i in range(len(v)):\n",
      "                if i > 0:\n",
      "                    if co[i] > 0:\n",
      "                        print(' + ',end='')\n",
      "                    else:\n",
      "                        print(' - ',end='')\n",
      "                if abs(co[i]) != 1 :\n",
      "                    print(abs(co[i]),end='') \n",
      "                print('x_%d' %(v[i]),end='')\n",
      "            if c != 0:\n",
      "                if c > 0:\n",
      "                    print(' + ',end='')\n",
      "                else:\n",
      "                    print(' - ',end='')\n",
      "                print ('%d' %abs(c),end='')\n",
      "            print(' <= 0')"
     ],
     "language": "python",
     "metadata": {},
     "outputs": [],
     "prompt_number": 70
    },
    {
     "cell_type": "code",
     "collapsed": false,
     "input": [
      "people_rel = dict()\n",
      "with open('./people.csv') as people_file:\n",
      "    people_file.readline()\n",
      "    for line in people_file:\n",
      "        line = line.strip().split(',')\n",
      "        current_tuple = [int(line[0]), line[1]]\n",
      "        people_rel[current_tuple[0]] = current_tuple[1]\n",
      "\n",
      "for key in people_rel.keys()[:5]:\n",
      "    print('%d %s' %(key, people_rel[key]))"
     ],
     "language": "python",
     "metadata": {},
     "outputs": [
      {
       "output_type": "stream",
       "stream": "stdout",
       "text": [
        "1 James\n",
        "2 John\n",
        "3 Mary\n",
        "4 Patricia\n",
        "5 Robert\n"
       ]
      }
     ],
     "prompt_number": 59
    },
    {
     "cell_type": "code",
     "collapsed": false,
     "input": [
      "knows_rel = dict()\n",
      "with open('./knows.csv') as knows_file:\n",
      "    knows_file.readline()\n",
      "    for line in knows_file:\n",
      "        line = line.strip().split(',')\n",
      "        current_tuple = [int(line[0]), int(line[1]), float(line[2])]\n",
      "        knows_rel[(current_tuple[0], current_tuple[1])] = (True, current_tuple[2])\n",
      "        \n",
      "opt_prob = Math_prob()\n",
      "for person1 in people_rel:\n",
      "    for person2 in people_rel:\n",
      "        current_tuple = (person1, person2)\n",
      "        if not current_tuple in knows_rel:\n",
      "            knows_rel[current_tuple] = (False, opt_prob.getvar())\n",
      "\n",
      "for key in knows_rel.keys()[:5]:\n",
      "    print(key, knows_rel[key])"
     ],
     "language": "python",
     "metadata": {},
     "outputs": [
      {
       "output_type": "stream",
       "stream": "stdout",
       "text": [
        "(7, 3) (False, 33)\n",
        "(4, 7) (False, 20)\n",
        "(1, 3) (False, 2)\n",
        "(6, 6) (True, 0.14)\n",
        "(5, 6) (False, 24)\n"
       ]
      }
     ],
     "prompt_number": 60
    },
    {
     "cell_type": "code",
     "collapsed": false,
     "input": [
      "trusts_rel = dict()\n",
      "with open('./trusts.csv') as knows_file:\n",
      "    knows_file.readline()\n",
      "    for line in knows_file:\n",
      "        line = line.strip().split(',')\n",
      "        current_tuple = [int(line[0]), int(line[1]), float(line[2])]\n",
      "        trusts_rel[(current_tuple[0], current_tuple[1])] = (True, current_tuple[2])\n",
      "for person1 in people_rel:\n",
      "    for person2 in people_rel:\n",
      "        current_tuple = (person1, person2)\n",
      "        if not current_tuple in trusts_rel:\n",
      "            trusts_rel[current_tuple] = (False, opt_prob.getvar())\n",
      "\n",
      "for key in trusts_rel.keys()[:5]:\n",
      "    print(key, knows_rel[key])"
     ],
     "language": "python",
     "metadata": {},
     "outputs": [
      {
       "output_type": "stream",
       "stream": "stdout",
       "text": [
        "(7, 3) (False, 33)\n",
        "(4, 7) (False, 20)\n",
        "(1, 3) (False, 2)\n",
        "(6, 6) (True, 0.14)\n",
        "(5, 6) (False, 24)\n"
       ]
      }
     ],
     "prompt_number": 61
    },
    {
     "cell_type": "markdown",
     "metadata": {},
     "source": [
      "The first rule that we want to ground is:\n",
      "\n",
      "\\begin{equation}\n",
      "\\mathit{Knows} (A,B) \\land \\mathit{Knows} (B,A) \\land \\neg \\mathit{Trusts} (B,A) \\to \\neg \\mathit{Trusts} (A,B)\n",
      "\\end{equation}"
     ]
    },
    {
     "cell_type": "code",
     "collapsed": false,
     "input": [
      "ground_rules = [(knows_rel[(person1, person2)],\n",
      "                 knows_rel[(person2, person1)],\n",
      "                 trusts_rel[(person2, person1)],\n",
      "                 trusts_rel[(person1, person2)])\n",
      "                for person1 in people_rel for person2 in people_rel]"
     ],
     "language": "python",
     "metadata": {},
     "outputs": [],
     "prompt_number": 62
    },
    {
     "cell_type": "markdown",
     "metadata": {},
     "source": [
      "I'm performing the logical operations in this order:\n",
      "\n",
      "\\begin{equation}\n",
      "    M_1 = \\mathit{Knows} (A,B) \\land \\mathit{Knows} (B,A) \\\\\n",
      "    M_2 = M_1 \\land \\neg \\mathit{Trusts} (B,A) \\\\\n",
      "    \\mathit{Distance} = M_2 \\land \\mathit{Trusts} (A,B)\n",
      "\\end{equation}\n",
      "\n",
      "The last rule is due to the fact that the distance to satisfaction for a rule is computed by $\\max\\{0, I(r_b)-I(r_h)\\}$, which is equal to $I(r_b \\land \\neg r_h)$. "
     ]
    },
    {
     "cell_type": "code",
     "collapsed": false,
     "input": [
      "weight1 = 1\n",
      "for F1, F2, F3, F4 in ground_rules:\n",
      "    M1 = psl_and(opt_prob, F1, F2)\n",
      "    M2 = psl_and(opt_prob, M1, F3, r_negated=True)\n",
      "    Dist = psl_and(opt_prob, M2, F4)\n",
      "    opt_prob.add_to_objective(Dist, weight1)"
     ],
     "language": "python",
     "metadata": {},
     "outputs": [],
     "prompt_number": 68
    },
    {
     "cell_type": "markdown",
     "metadata": {},
     "source": [
      "Similarly, we can add the rules that have the *Average* function in them:\n",
      "\n",
      "\\begin{equation}\n",
      "    \\mathit{Knows}(A,B) \\land \\mathit{Average} (\\{\\mathit{Trusts}\\}) \\to \\mathit{Trusts} (A,B)\n",
      "\\end{equation}\n"
     ]
    },
    {
     "cell_type": "code",
     "collapsed": false,
     "input": [
      "import numpy as np\n",
      "\n",
      "ground_rules = [(knows_rel[(person1, person2)],\n",
      "                 trusts_rel[(person1, person2)])\n",
      "                for person1 in people_rel for person2 in people_rel]\n",
      "\n",
      "average_trust = np.mean([value for (has_value, value) in trusts_rel if has_value])\n",
      "\n",
      "weight2 = 2\n",
      "for F1, F2 in ground_rules:\n",
      "    M1 = psl_and(opt_prob, F1, (True, average_trust))\n",
      "    Dist = psl_and(opt_prob, M1, F2, r_negated=True)\n",
      "    opt_prob.add_to_objective(Dist, weight2)"
     ],
     "language": "python",
     "metadata": {},
     "outputs": [],
     "prompt_number": 69
    },
    {
     "cell_type": "code",
     "collapsed": false,
     "input": [
      "# opt_prob.print_cons_linear()"
     ],
     "language": "python",
     "metadata": {},
     "outputs": [],
     "prompt_number": 65
    },
    {
     "cell_type": "code",
     "collapsed": false,
     "input": [
      "def psl_and(problem, left, right, l_negated=False, r_negated=False):\n",
      "    m, n = (left[1], right[1])\n",
      "    m_coef, n_coef = (1,1)\n",
      "    cons = 0\n",
      "    \n",
      "    if l_negated:\n",
      "        if left[0]:\n",
      "            m = 1-m\n",
      "        else:\n",
      "            m_coef = -1\n",
      "            cons += 1\n",
      "    \n",
      "    if r_negated:\n",
      "        if right[0]:\n",
      "            n = 1-n\n",
      "        else:\n",
      "            n_coef = -1\n",
      "            cons += 1\n",
      "        \n",
      "    if left[0] and right[0]:\n",
      "        return (True, max(0, m+n-1))\n",
      "    elif not left[0] and not right[0]:\n",
      "        y = problem.getvar()\n",
      "        problem.add_linear_constraint([m,n,y], [m_coef,n_coef,-1], (cons-1))\n",
      "        return (False, y)\n",
      "    elif left[0] and not right[0]:\n",
      "        y = problem.getvar()\n",
      "        problem.add_linear_constraint([m,y], [m_coef,-1], cons+n-1)\n",
      "        return (False, y)\n",
      "    elif not left[0] and right[0]:\n",
      "        y = problem.getvar()\n",
      "        problem.add_linear_constraint([n,y], [n_coef,-1], cons+m-1)\n",
      "        return (False, y)\n",
      "    "
     ],
     "language": "python",
     "metadata": {},
     "outputs": [],
     "prompt_number": 6
    },
    {
     "cell_type": "code",
     "collapsed": false,
     "input": [
      "def psl_or(problem, left, right, l_negated=False, r_negated=False):\n",
      "    m, n = (left[1], right[1])\n",
      "    m_coef, n_coef = (-1,-1)\n",
      "    cons = 0\n",
      "    \n",
      "    if l_negated:\n",
      "        if left[0]:\n",
      "            m = 1-m\n",
      "        else:\n",
      "            m_coef = 1\n",
      "            cons -= 1\n",
      "    \n",
      "    if r_negated:\n",
      "        if right[0]:\n",
      "            n = 1-n\n",
      "        else:\n",
      "            n_coef = 1\n",
      "            cons -= 1\n",
      "        \n",
      "    if left[0] and right[0]:\n",
      "        return (True, max(0, m+n-1))\n",
      "    elif not left[0] and not right[0]:\n",
      "        y = problem.getvar()\n",
      "        problem.add_linear_constraint([m,n,y], [m_coef,n_coef,1], cons)\n",
      "        return (False, y)\n",
      "    elif left[0] and not right[0]:\n",
      "        y = problem.getvar()\n",
      "        problem.add_linear_constraint([m,y], [m_coef,1], cons+n-1)\n",
      "        return (False, y)\n",
      "    elif not left[0] and right[0]:\n",
      "        y = problem.getvar()\n",
      "        problem.add_linear_constraint([n,y], [n_coef,1], cons+m-1)\n",
      "        return (False, y)"
     ],
     "language": "python",
     "metadata": {},
     "outputs": [],
     "prompt_number": 9
    }
   ],
   "metadata": {}
  }
 ]
}