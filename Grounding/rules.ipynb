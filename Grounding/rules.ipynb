{
 "metadata": {
  "name": "",
  "signature": "sha256:159b27ae0f0b2019de9820ee53901c2b04c0f5b3492e22535f60522e55227f68"
 },
 "nbformat": 3,
 "nbformat_minor": 0,
 "worksheets": [
  {
   "cells": [
    {
     "cell_type": "code",
     "collapsed": false,
     "input": [
      "people_rel = dict()\n",
      "with open('./people.csv') as people_file:\n",
      "    people_file.readline()\n",
      "    for line in people_file:\n",
      "        line = line.strip().split(',')\n",
      "        current_tuple = [int(line[0]), line[1]]\n",
      "        people_rel[current_tuple[0]] = current_tuple[1]\n",
      "\n",
      "for key in people_rel.keys()[:5]:\n",
      "    print('%d %s' %(key, people_rel[key]))"
     ],
     "language": "python",
     "metadata": {},
     "outputs": [
      {
       "output_type": "stream",
       "stream": "stdout",
       "text": [
        "1 James\n",
        "2 John\n",
        "3 Mary\n",
        "4 Patricia\n",
        "5 Robert\n"
       ]
      }
     ],
     "prompt_number": 1
    },
    {
     "cell_type": "code",
     "collapsed": false,
     "input": [
      "from gr_utils import Math_prob\n",
      "knows_rel = dict()\n",
      "with open('./knows.csv') as knows_file:\n",
      "    knows_file.readline()\n",
      "    for line in knows_file:\n",
      "        line = line.strip().split(',')\n",
      "        current_tuple = [int(line[0]), int(line[1]), float(line[2])]\n",
      "        knows_rel[(current_tuple[0], current_tuple[1])] = (True, current_tuple[2])\n",
      "        \n",
      "opt_prob = Math_prob()\n",
      "for person1 in people_rel:\n",
      "    for person2 in people_rel:\n",
      "        current_tuple = (person1, person2)\n",
      "        if not current_tuple in knows_rel:\n",
      "            knows_rel[current_tuple] = (False, opt_prob.add_var())\n",
      "\n",
      "for key in knows_rel.keys()[:5]:\n",
      "    print(key, knows_rel[key])"
     ],
     "language": "python",
     "metadata": {},
     "outputs": [
      {
       "output_type": "stream",
       "stream": "stdout",
       "text": [
        "((7, 3), (False, 33))\n",
        "((4, 7), (False, 20))\n",
        "((1, 3), (False, 2))\n",
        "((6, 6), (True, 0.14))\n",
        "((5, 6), (False, 24))\n"
       ]
      }
     ],
     "prompt_number": 2
    },
    {
     "cell_type": "code",
     "collapsed": false,
     "input": [
      "trusts_rel = dict()\n",
      "with open('./trusts.csv') as knows_file:\n",
      "    knows_file.readline()\n",
      "    for line in knows_file:\n",
      "        line = line.strip().split(',')\n",
      "        current_tuple = [int(line[0]), int(line[1]), float(line[2])]\n",
      "        trusts_rel[(current_tuple[0], current_tuple[1])] = (True, current_tuple[2])\n",
      "for person1 in people_rel:\n",
      "    for person2 in people_rel:\n",
      "        current_tuple = (person1, person2)\n",
      "        if not current_tuple in trusts_rel:\n",
      "            trusts_rel[current_tuple] = (False, opt_prob.add_var())\n",
      "\n",
      "for key in trusts_rel.keys()[:5]:\n",
      "    print(key, knows_rel[key])"
     ],
     "language": "python",
     "metadata": {},
     "outputs": [
      {
       "output_type": "stream",
       "stream": "stdout",
       "text": [
        "((7, 3), (False, 33))\n",
        "((4, 7), (False, 20))\n",
        "((1, 3), (False, 2))\n",
        "((6, 6), (True, 0.14))\n",
        "((5, 6), (False, 24))\n"
       ]
      }
     ],
     "prompt_number": 3
    },
    {
     "cell_type": "markdown",
     "metadata": {},
     "source": [
      "The first rule that we want to ground is:\n",
      "\n",
      "\\begin{equation}\n",
      "\\mathit{Knows} (A,B) \\land \\mathit{Knows} (B,A) \\land \\neg \\mathit{Trusts} (B,A) \\to \\neg \\mathit{Trusts} (A,B)\n",
      "\\end{equation}"
     ]
    },
    {
     "cell_type": "code",
     "collapsed": false,
     "input": [
      "ground_rules = [(knows_rel[(person1, person2)],\n",
      "                 knows_rel[(person2, person1)],\n",
      "                 trusts_rel[(person2, person1)],\n",
      "                 trusts_rel[(person1, person2)])\n",
      "                for person1 in people_rel for person2 in people_rel]"
     ],
     "language": "python",
     "metadata": {},
     "outputs": [],
     "prompt_number": 4
    },
    {
     "cell_type": "markdown",
     "metadata": {},
     "source": [
      "I'm performing the logical operations in this order:\n",
      "\n",
      "\\begin{equation}\n",
      "    M_1 = \\mathit{Knows} (A,B) \\land \\mathit{Knows} (B,A) \\\\\n",
      "    M_2 = M_1 \\land \\neg \\mathit{Trusts} (B,A) \\\\\n",
      "    \\mathit{Distance} = M_2 \\land \\mathit{Trusts} (A,B)\n",
      "\\end{equation}\n",
      "\n",
      "The last rule is due to the fact that the distance to satisfaction for a rule is computed by $\\max\\{0, I(r_b)-I(r_h)\\}$, which is equal to $I(r_b \\land \\neg r_h)$. "
     ]
    },
    {
     "cell_type": "code",
     "collapsed": false,
     "input": [
      "weight1 = 1\n",
      "for F1, F2, F3, F4 in ground_rules:\n",
      "    M1 = psl_and(opt_prob, F1, F2)\n",
      "    M2 = psl_and(opt_prob, M1, F3, r_negated=True)\n",
      "    Dist = psl_and(opt_prob, M2, F4)\n",
      "    opt_prob.add_to_objective(Dist, weight1)"
     ],
     "language": "python",
     "metadata": {},
     "outputs": [],
     "prompt_number": 7
    },
    {
     "cell_type": "markdown",
     "metadata": {},
     "source": [
      "Similarly, we can add the rules that have the *Average* function in them:\n",
      "\n",
      "\\begin{equation}\n",
      "    \\mathit{Knows}(A,B) \\land \\mathit{Average} (\\{\\mathit{Trusts}\\}) \\to \\mathit{Trusts} (A,B)\n",
      "\\end{equation}\n"
     ]
    },
    {
     "cell_type": "code",
     "collapsed": false,
     "input": [
      "import numpy as np\n",
      "\n",
      "ground_rules = [(knows_rel[(person1, person2)],\n",
      "                 trusts_rel[(person1, person2)])\n",
      "                for person1 in people_rel for person2 in people_rel]\n",
      "\n",
      "average_trust = np.mean([value for (has_value, value) in trusts_rel if has_value])\n",
      "\n",
      "weight2 = 2\n",
      "for F1, F2 in ground_rules:\n",
      "    M1 = psl_and(opt_prob, F1, (True, average_trust))\n",
      "    Dist = psl_and(opt_prob, M1, F2, r_negated=True)\n",
      "    opt_prob.add_to_objective(Dist, weight2)"
     ],
     "language": "python",
     "metadata": {},
     "outputs": [],
     "prompt_number": 8
    },
    {
     "cell_type": "code",
     "collapsed": false,
     "input": [
      "opt_prob.print_objective()\n",
      "opt_prob.pulp_solve()\n",
      "# opt_prob.print_cons_linear()"
     ],
     "language": "python",
     "metadata": {},
     "outputs": [
      {
       "output_type": "stream",
       "stream": "stdout",
       "text": [
        "x_128 + x_131 + x_133 + x_136 + x_139 + x_142 + x_145 + x_148 + x_151 + x_154 + x_157 + x_160 + x_163 + x_166 + x_169 + x_171 + x_174 + x_177 + x_180 + x_183 + x_186 + x_189 + x_192 + x_224 + x_195 + x_198 + x_201 + x_204 + x_205 + x_79 + x_208 + x_82 + x_211 + x_85 + x_214 + x_88 + x_217 + x_91 + x_220 + x_94 + x_223 + x_96 + x_225 + x_98 + x_228 + x_101 + x_231 + x_104 + x_234 + x_107 + x_237 + x_110 + x_240 + x_113 + x_242 + x_116 + x_245 + x_119 + x_122 + x_125\n"
       ]
      }
     ],
     "prompt_number": 9
    },
    {
     "cell_type": "code",
     "collapsed": false,
     "input": [
      "def psl_and(problem, left, right, l_negated=False, r_negated=False):\n",
      "    m, n = (left[1], right[1])\n",
      "    m_coef, n_coef = (1,1)\n",
      "    cons = 0\n",
      "    \n",
      "    if l_negated:\n",
      "        if left[0]:\n",
      "            m = 1-m\n",
      "        else:\n",
      "            m_coef = -1\n",
      "            cons += 1\n",
      "    \n",
      "    if r_negated:\n",
      "        if right[0]:\n",
      "            n = 1-n\n",
      "        else:\n",
      "            n_coef = -1\n",
      "            cons += 1\n",
      "        \n",
      "    if left[0] and right[0]:\n",
      "        return (True, max(0, m+n-1))\n",
      "    elif not left[0] and not right[0]:\n",
      "        y = problem.add_var()\n",
      "        problem.add_linear_constraint([m,n,y], [m_coef,n_coef,-1], (cons-1))\n",
      "        return (False, y)\n",
      "    elif not left[0] and right[0]:\n",
      "        y = problem.add_var()\n",
      "        problem.add_linear_constraint([m,y], [m_coef,-1], cons+n-1)\n",
      "        return (False, y)\n",
      "    elif left[0] and not right[0]:\n",
      "        y = problem.add_var()\n",
      "        problem.add_linear_constraint([n,y], [n_coef,-1], cons+m-1)\n",
      "        return (False, y)\n",
      "    "
     ],
     "language": "python",
     "metadata": {},
     "outputs": [],
     "prompt_number": 5
    },
    {
     "cell_type": "code",
     "collapsed": false,
     "input": [
      "def psl_or(problem, left, right, l_negated=False, r_negated=False):\n",
      "    m, n = (left[1], right[1])\n",
      "    m_coef, n_coef = (-1,-1)\n",
      "    cons = 0\n",
      "    \n",
      "    if l_negated:\n",
      "        if left[0]:\n",
      "            m = 1-m\n",
      "        else:\n",
      "            m_coef = 1\n",
      "            cons -= 1\n",
      "    \n",
      "    if r_negated:\n",
      "        if right[0]:\n",
      "            n = 1-n\n",
      "        else:\n",
      "            n_coef = 1\n",
      "            cons -= 1\n",
      "        \n",
      "    if left[0] and right[0]:\n",
      "        return (True, max(0, m+n-1))\n",
      "    elif not left[0] and not right[0]:\n",
      "        y = problem.add_var()\n",
      "        problem.add_linear_constraint([m,n,y], [m_coef,n_coef,1], cons)\n",
      "        return (False, y)\n",
      "    elif not left[0] and right[0]:\n",
      "        y = problem.add_var()\n",
      "        problem.add_linear_constraint([m,y], [m_coef,1], cons+n-1)\n",
      "        return (False, y)\n",
      "    elif left[0] and not right[0]:\n",
      "        y = problem.add_var()\n",
      "        problem.add_linear_constraint([n,y], [n_coef,1], cons+m-1)\n",
      "        return (False, y)"
     ],
     "language": "python",
     "metadata": {},
     "outputs": [],
     "prompt_number": 6
    }
   ],
   "metadata": {}
  }
 ]
}