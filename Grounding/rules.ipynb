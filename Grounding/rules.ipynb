{
 "metadata": {
  "name": ""
 },
 "nbformat": 3,
 "nbformat_minor": 0,
 "worksheets": [
  {
   "cells": [
    {
     "cell_type": "code",
     "collapsed": false,
     "input": [
      "people_rel = dict()\n",
      "with open('./people.csv') as people_file:\n",
      "    people_file.readline()\n",
      "    for line in people_file:\n",
      "        line = line.strip().split(',')\n",
      "        current_tuple = [int(line[0]), line[1]]\n",
      "        people_rel[current_tuple[0]] = current_tuple[1]"
     ],
     "language": "python",
     "metadata": {},
     "outputs": [],
     "prompt_number": 8
    },
    {
     "cell_type": "code",
     "collapsed": false,
     "input": [
      "var_cnt = 0\n",
      "knows_rel = dict()\n",
      "with open('./knows.csv') as knows_file:\n",
      "    knows_file.readline()\n",
      "    for line in knows_file:\n",
      "        line = line.strip().split(',')\n",
      "        current_tuple = [int(line[0]), int(line[1]), float(line[2])]\n",
      "        knows_rel[(current_tuple[0], current_tuple[1])] = (True, current_tuple[2])\n",
      "for person1 in people_rel:\n",
      "    for person2 in people_rel:\n",
      "        current_tuple = (person1, person2)\n",
      "        if not current_tuple in knows_rel:\n",
      "            knows_rel[current_tuple] = (False, var_cnt)\n",
      "            var_cnt += 1"
     ],
     "language": "python",
     "metadata": {},
     "outputs": [],
     "prompt_number": 19
    },
    {
     "cell_type": "code",
     "collapsed": false,
     "input": [
      "trusts_rel = dict()\n",
      "with open('./trusts.csv') as knows_file:\n",
      "    knows_file.readline()\n",
      "    for line in knows_file:\n",
      "        line = line.strip().split(',')\n",
      "        current_tuple = [int(line[0]), int(line[1]), float(line[2])]\n",
      "        trusts_rel[(current_tuple[0], current_tuple[1])] = (True, current_tuple[2])\n",
      "for person1 in people_rel:\n",
      "    for person2 in people_rel:\n",
      "        current_tuple = (person1, person2)\n",
      "        if not current_tuple in trusts_rel:\n",
      "            trusts_rel[current_tuple] = (False, var_cnt)\n",
      "            var_cnt += 1"
     ],
     "language": "python",
     "metadata": {},
     "outputs": [],
     "prompt_number": 20
    },
    {
     "cell_type": "markdown",
     "metadata": {},
     "source": [
      "The rule that we want to ground is:\n",
      "\n",
      "\\begin{equation}\n",
      "\\mathit{Knows} (A,B) \\land \\mathit{Knows} (B,A) \\land \\neg \\mathit{Trusts} (B,A) \\to \\neg \\mathit{Trusts} (A,B)\n",
      "\\end{equation}\n",
      "\n",
      "So, we want to perform the following join operation on our relations:\n",
      "\n",
      "\\begin{equation}\n",
      "\\mathit{Knows} (A,B) \\otimes \\mathit{Knows} (B,A) \\otimes \\mathit{Trusts} (B,A) \\otimes \\mathit{Trusts} (A,B)\n",
      "\\end{equation}"
     ]
    },
    {
     "cell_type": "code",
     "collapsed": false,
     "input": [
      "ground_rules = [(knows_rel[(person1, person2)],\n",
      "                 knows_rel[(person2, person1)],\n",
      "                 trusts_rel[(person2, person1)],\n",
      "                 trusts_rel[(person1, person2)])\n",
      "                for person1 in people_rel for person2 in people_rel]\n",
      "ground_rules[:3]"
     ],
     "language": "python",
     "metadata": {},
     "outputs": [
      {
       "metadata": {},
       "output_type": "pyout",
       "prompt_number": 27,
       "text": [
        "[((False, 0), (False, 0), (True, 0.15), (True, 0.15)),\n",
        " ((False, 1), (False, 6), (False, 43), (False, 40)),\n",
        " ((False, 2), (False, 10), (False, 49), (True, 0.48))]"
       ]
      }
     ],
     "prompt_number": 27
    }
   ],
   "metadata": {}
  }
 ]
}