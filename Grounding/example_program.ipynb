{
 "metadata": {
  "name": ""
 },
 "nbformat": 3,
 "nbformat_minor": 0,
 "worksheets": [
  {
   "cells": [
    {
     "cell_type": "markdown",
     "metadata": {},
     "source": [
      "OK. So we want to perform the MPE task on a PSL program which consists of these rules:\n",
      "\n",
      "\\begin{equation}\n",
      "    \\mathit{Knows}(A,B) \\land \\mathit{Trusts}(A,B) \\land \\mathit{Knows}(B,C) \\land \\mathit{Trusts}(B,C) \n",
      "    \\land \\mathit{Knows}(A,C) \\to \\mathit{Trusts}(A,C) \\\\\n",
      "    \\mathit{Knows}(A,B) \\land \\neg \\mathit{Trusts}(A,B) \\land \\mathit{Knows}(B,C) \\land \\mathit{Trusts}(B,C) \n",
      "    \\land \\mathit{Knows}(A,C) \\to \\neg \\mathit{Trusts}(A,C) \\\\\n",
      "    \\mathit{Knows}(A,B) \\land \\mathit{Trusts}(A,B) \\land \\mathit{Knows}(B,C) \\land \\neg \\mathit{Trusts}(B,C) \n",
      "    \\land \\mathit{Knows}(A,C) \\to \\neg \\mathit{Trusts}(A,C) \\\\\n",
      "        \\mathit{Knows}(A,B) \\land \\neg \\mathit{Trusts}(A,B) \\land \\mathit{Knows}(B,C) \\land \\neg \\mathit{Trusts}(B,C) \n",
      "    \\land \\mathit{Knows}(A,C) \\to \\mathit{Trusts}(A,C) \\\\\n",
      "        \\mathit{Knows}(A,B) \\land \\mathit{Trusts}(A,B) \\land \\mathit{Knows}(B,C) \\land \\mathit{Trusts}(B,C) \n",
      "    \\land \\mathit{Knows}(C,A) \\to \\mathit{Trusts}(C,A) \\\\\n",
      "        \\mathit{Knows}(A,B) \\land \\mathit{Knows}(B,A) \\land \n",
      "    \\mathit{Trusts}(B,A) \\to \\mathit{Trusts}(A,B) \\\\\n",
      "        \\mathit{Knows}(A,B) \\land \\mathit{Knows}(B,A) \\land \n",
      "    \\neg \\mathit{Trusts}(B,A) \\to \\neg \\mathit{Trusts}(A,B) \\\\\n",
      "        \\mathit{Knows}(A,B) \\land \\mathit{Average} (\\{\\mathit{Trusts}\\}) \\to \\mathit{Trusts} (A,B) \\\\\n",
      "    \\mathit{Knows}(A,B) \\land  \\mathit{Trusts}(A,B) \n",
      "    \\to \\mathit{Average}(\\{\\mathit{Trusts}\\}) \n",
      "\\end{equation}\n",
      "\n",
      "\n",
      "We start with loading the data:"
     ]
    },
    {
     "cell_type": "code",
     "collapsed": false,
     "input": [
      "import numpy as np\n",
      "from gr_core import Math_prob, psl_rule\n",
      "from gr_utils import read_trust_data, write_trust_mpe\n",
      "\n",
      "opt_prob = Math_prob()\n",
      "people_rel, knows_rel, trusts_rel = read_trust_data('./people.csv', './knows.csv', './trusts.csv', opt_prob)\n",
      "\n",
      "# We will need the average of trust for some of our rules\n",
      "average_trust = np.mean([value for (has_value, value) in trusts_rel if has_value])"
     ],
     "language": "python",
     "metadata": {},
     "outputs": [],
     "prompt_number": 2
    },
    {
     "cell_type": "markdown",
     "metadata": {},
     "source": [
      "Rule 1:\n",
      "\\begin{equation}\n",
      "    \\mathit{Knows}(A,B) \\land \\mathit{Trusts}(A,B) \\land \\mathit{Knows}(B,C) \\land \\mathit{Trusts}(B,C) \n",
      "    \\land \\mathit{Knows}(A,C) \\to \\mathit{Trusts}(A,C)\n",
      "\\end{equation}"
     ]
    },
    {
     "cell_type": "code",
     "collapsed": false,
     "input": [
      "ground_rules = [(knows_rel[(A, B)],\n",
      "                 trusts_rel[(A, B)],\n",
      "                 knows_rel[(B, C)],\n",
      "                 trusts_rel[(B, C)],\n",
      "                 knows_rel[(A, C)],\n",
      "                 trusts_rel[(A, C)])\n",
      "                for A in people_rel for B in people_rel for C in people_rel]\n",
      "\n",
      "weight1 = 1\n",
      "for P1, P2, P3, P4, P5, P6 in ground_rules:\n",
      "    Dist = psl_rule(opt_prob, [P1, P2, P3, P4, P5], P6, [False]*5, False)\n",
      "    opt_prob.add_to_objective(Dist, weight1)"
     ],
     "language": "python",
     "metadata": {},
     "outputs": []
    },
    {
     "cell_type": "markdown",
     "metadata": {},
     "source": [
      "Rule 2:\n",
      "\\begin{equation}\n",
      "    \\mathit{Knows}(A,B) \\land \\neg \\mathit{Trusts}(A,B) \\land \\mathit{Knows}(B,C) \\land \\mathit{Trusts}(B,C) \n",
      "    \\land \\mathit{Knows}(A,C) \\to \\neg \\mathit{Trusts}(A,C)\n",
      "\\end{equation}"
     ]
    },
    {
     "cell_type": "code",
     "collapsed": false,
     "input": [
      "weight2 = 1\n",
      "for P1, P2, P3, P4, P5, P6 in ground_rules:\n",
      "    Dist = psl_rule(opt_prob, [P1, P2, P3, P4, P5], P6, [False, True, False, False, False], True)\n",
      "    opt_prob.add_to_objective(Dist, weight2)"
     ],
     "language": "python",
     "metadata": {},
     "outputs": [],
     "prompt_number": 18
    },
    {
     "cell_type": "markdown",
     "metadata": {},
     "source": [
      "Rule 3:\n",
      "\\begin{equation}\n",
      "    \\mathit{Knows}(A,B) \\land \\mathit{Trusts}(A,B) \\land \\mathit{Knows}(B,C) \\land \\neg \\mathit{Trusts}(B,C) \n",
      "    \\land \\mathit{Knows}(A,C) \\to \\neg \\mathit{Trusts}(A,C)\n",
      "\\end{equation}"
     ]
    },
    {
     "cell_type": "code",
     "collapsed": false,
     "input": [
      "weight3 = 1\n",
      "for P1, P2, P3, P4, P5, P6 in ground_rules:\n",
      "    Dist = psl_rule(opt_prob, [P1, P2, P3, P4, P5], P6, [False, False, False, True, False], True)\n",
      "    opt_prob.add_to_objective(Dist, weight3)"
     ],
     "language": "python",
     "metadata": {},
     "outputs": [],
     "prompt_number": 17
    },
    {
     "cell_type": "markdown",
     "metadata": {},
     "source": [
      "Rule 4:\n",
      "\\begin{equation}\n",
      "    \\mathit{Knows}(A,B) \\land \\neg \\mathit{Trusts}(A,B) \\land \\mathit{Knows}(B,C) \\land \\neg \\mathit{Trusts}(B,C) \n",
      "    \\land \\mathit{Knows}(A,C) \\to \\mathit{Trusts}(A,C)\n",
      "\\end{equation}"
     ]
    },
    {
     "cell_type": "code",
     "collapsed": false,
     "input": [
      "weight4 = 1\n",
      "for P1, P2, P3, P4, P5, P6 in ground_rules:\n",
      "    Dist = psl_rule(opt_prob, [P1, P2, P3, P4, P5], P6, [False, True, False, True, False], False)\n",
      "    opt_prob.add_to_objective(Dist, weight4)"
     ],
     "language": "python",
     "metadata": {},
     "outputs": [],
     "prompt_number": 16
    },
    {
     "cell_type": "markdown",
     "metadata": {},
     "source": [
      "Rule 5:\n",
      "\\begin{equation}\n",
      "    \\mathit{Knows}(A,B) \\land \\mathit{Trusts}(A,B) \\land \\mathit{Knows}(B,C) \\land \\mathit{Trusts}(B,C) \n",
      "    \\land \\mathit{Knows}(C,A) \\to \\mathit{Trusts}(C,A)\n",
      "\\end{equation}"
     ]
    },
    {
     "cell_type": "code",
     "collapsed": false,
     "input": [
      "ground_rules = [(knows_rel[(A, B)],\n",
      "                 trusts_rel[(A, B)],\n",
      "                 knows_rel[(B, C)],\n",
      "                 trusts_rel[(B, C)],\n",
      "                 knows_rel[(C, A)],\n",
      "                 trusts_rel[(C, A)])\n",
      "                for A in people_rel for B in people_rel for C in people_rel]\n",
      "\n",
      "weight5 = 1\n",
      "for P1, P2, P3, P4, P5, P6 in ground_rules:\n",
      "    Dist = psl_rule(opt_prob, [P1, P2, P3, P4, P5], P6, [False]*5, False)\n",
      "    opt_prob.add_to_objective(Dist, weight5)"
     ],
     "language": "python",
     "metadata": {},
     "outputs": [],
     "prompt_number": 15
    },
    {
     "cell_type": "markdown",
     "metadata": {},
     "source": [
      "Rule 6:\n",
      "\\begin{equation}\n",
      "    \\mathit{Knows}(A,B) \\land \\mathit{Knows}(B,A) \\land \n",
      "    \\mathit{Trusts}(B,A) \\to \\mathit{Trusts}(A,B)\n",
      "\\end{equation}"
     ]
    },
    {
     "cell_type": "code",
     "collapsed": false,
     "input": [
      "ground_rules = [(knows_rel[(A, B)],\n",
      "                 knows_rel[(B, A)],\n",
      "                 trusts_rel[(B, A)],\n",
      "                 trusts_rel[(A, B)])\n",
      "                for A in people_rel for B in people_rel]\n",
      "\n",
      "weight6 = 1\n",
      "for P1, P2, P3, P4 in ground_rules:\n",
      "    Dist = psl_rule(opt_prob, [P1, P2, P3], P4, [False]*3, False)\n",
      "    opt_prob.add_to_objective(Dist, weight6)"
     ],
     "language": "python",
     "metadata": {},
     "outputs": [],
     "prompt_number": 13
    },
    {
     "cell_type": "markdown",
     "metadata": {},
     "source": [
      "Rule 7:\n",
      "\\begin{equation}\n",
      "    \\mathit{Knows}(A,B) \\land \\mathit{Knows}(B,A) \\land \n",
      "    \\neg \\mathit{Trusts}(B,A) \\to \\neg \\mathit{Trusts}(A,B)\n",
      "\\end{equation}"
     ]
    },
    {
     "cell_type": "code",
     "collapsed": false,
     "input": [
      "weight7 = 1\n",
      "for P1, P2, P3, P4 in ground_rules:\n",
      "    Dist = psl_rule(opt_prob, [P1, P2, P3], P4, [False,False,True] , True)\n",
      "    opt_prob.add_to_objective(Dist, weight7)"
     ],
     "language": "python",
     "metadata": {},
     "outputs": [],
     "prompt_number": 14
    },
    {
     "cell_type": "markdown",
     "metadata": {},
     "source": [
      "Rule 8:\n",
      "\\begin{equation}\n",
      "    \\mathit{Knows}(A,B) \\land \\mathit{Average} (\\{\\mathit{Trusts}\\}) \\to \\mathit{Trusts} (A,B)\n",
      "\\end{equation}"
     ]
    },
    {
     "cell_type": "code",
     "collapsed": false,
     "input": [
      "ground_rules = [(knows_rel[(A, B)],\n",
      "                 trusts_rel[(A, B)])\n",
      "                for A in people_rel for B in people_rel]\n",
      "\n",
      "weight8 = 1\n",
      "for F1, F2 in ground_rules:\n",
      "    Dist = psl_rule(opt_prob, [F1, (True, average_trust)], F2, [False, False], False)\n",
      "    opt_prob.add_to_objective(Dist, weight8)"
     ],
     "language": "python",
     "metadata": {},
     "outputs": [],
     "prompt_number": 20
    },
    {
     "cell_type": "markdown",
     "metadata": {},
     "source": [
      "Rule 9:\n",
      "\\begin{equation}\n",
      "    \\mathit{Knows}(A,B) \\land  \\mathit{Trusts}(A,B) \n",
      "    \\to \\mathit{Average}(\\{\\mathit{Trusts}\\}) \n",
      "\\end{equation}"
     ]
    },
    {
     "cell_type": "code",
     "collapsed": false,
     "input": [
      "weight9 = 1\n",
      "for F1, F2 in ground_rules:\n",
      "    Dist = psl_rule(opt_prob, [F1, F2], (True, average_trust), [False, False], False)\n",
      "    opt_prob.add_to_objective(Dist, weight9)"
     ],
     "language": "python",
     "metadata": {},
     "outputs": [],
     "prompt_number": 21
    },
    {
     "cell_type": "markdown",
     "metadata": {},
     "source": [
      "We are done! We can now solve the problem and store the results:"
     ]
    },
    {
     "cell_type": "code",
     "collapsed": false,
     "input": [
      "opt_prob.pulp_solve()\n",
      "write_trust_mpe('knows_infer_large.csv', 'trusts_infer_large.csv', \n",
      "                people_rel, knows_rel, trusts_rel, opt_prob)"
     ],
     "language": "python",
     "metadata": {},
     "outputs": [],
     "prompt_number": 22
    }
   ],
   "metadata": {}
  }
 ]
}