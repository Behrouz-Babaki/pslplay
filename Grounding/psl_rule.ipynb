{
 "metadata": {
  "name": ""
 },
 "nbformat": 3,
 "nbformat_minor": 0,
 "worksheets": [
  {
   "cells": [
    {
     "cell_type": "markdown",
     "metadata": {},
     "source": [
      "Suppose that we want to add the following ground rule to the mathematical program:\n",
      "    \n",
      "\\begin{equation}\n",
      "    B_1 \\land B_2 \\land \\ldots \\land B_n \\to H\n",
      "\\end{equation}\n",
      "\n",
      "Assume that $b_1 \\ldots b_n$ are the variables (or constants) corresponding to atoms $B_1 \\ldots B_n$. Similarly $H$ corresponds to ground atom $H$. Now if we represent the distance to satisfaction for this rule by a variable $y$ in the linear program, the following constraint is enough for establishing the connection between these variables:\n",
      "\n",
      "\\begin{equation}\n",
      "    -\\sum_{i=1}^n (1-b_i) -h -y + 1 \\leq 0\n",
      "\\end{equation}\n",
      "\n",
      "The function *psl_rule* creates variable $y$, and adds the above-mentioned linear constraint to the linear program:"
     ]
    },
    {
     "cell_type": "code",
     "collapsed": false,
     "input": [
      "def psl_rule(problem, body, head, body_neg_stat, head_neg_stat):\n",
      "    y = problem.add_var()\n",
      "    var_ids = [y]\n",
      "    coefs = [-1]\n",
      "    const_part = 1\n",
      "    \n",
      "    isconst, val = head\n",
      "    if isconst:\n",
      "        if head_neg_stat:\n",
      "            const_part += (-1+val)\n",
      "        else:\n",
      "            const_part += -val\n",
      "    else:\n",
      "        var_ids.append(val)\n",
      "        if head_neg_stat:\n",
      "            const_part -= 1\n",
      "            coefs.append(1)\n",
      "        else:\n",
      "            coefs.append(-1)\n",
      "            \n",
      "    for i in range(len(body)):\n",
      "        isconst, val = body[i]\n",
      "        if isconst:\n",
      "            if body_neg_stat:\n",
      "                const_part -= val\n",
      "            else:\n",
      "                const_part -= (1-val)\n",
      "        else:\n",
      "            var_ids.append(val)\n",
      "            if body_neg_stat:\n",
      "                coefs.append(-1)\n",
      "            else:\n",
      "                coefs.append(1)\n",
      "                const_part -= 1\n",
      "    problem.add_linear_constraint(var_ids, coefs, const_part)  \n",
      "    return (False,y)"
     ],
     "language": "python",
     "metadata": {},
     "outputs": []
    }
   ],
   "metadata": {}
  }
 ]
}