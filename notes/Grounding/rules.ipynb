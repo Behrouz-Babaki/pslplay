{
 "metadata": {
  "name": "",
  "signature": "sha256:159b27ae0f0b2019de9820ee53901c2b04c0f5b3492e22535f60522e55227f68"
 },
 "nbformat": 3,
 "nbformat_minor": 0,
 "worksheets": [
  {
   "cells": [
    {
     "cell_type": "markdown",
     "metadata": {},
     "source": [
      "We start by loading the data into three relations:"
     ]
    },
    {
     "cell_type": "code",
     "collapsed": false,
     "input": [
      "from gr_core import Math_prob, psl_rule\n",
      "from gr_utils import read_trust_data, write_trust_mpe\n",
      "\n",
      "opt_prob = Math_prob()\n",
      "people_rel, knows_rel, trusts_rel = read_trust_data('./people.csv', './knows.csv', './trusts.csv', opt_prob)"
     ],
     "language": "python",
     "metadata": {},
     "outputs": [],
     "prompt_number": 1
    },
    {
     "cell_type": "markdown",
     "metadata": {},
     "source": [
      "Adding each rule to the problem is performed in two steps: first we join all groundings of all predicates in that rule. Then we add the obtained rows to the mathematical program one by one. Take this rule as an example:\n",
      "\n",
      "\\begin{equation}\n",
      "\\mathit{Knows} (A,B) \\land \\mathit{Knows} (B,A) \\land \\neg \\mathit{Trusts} (B,A) \\to \\neg \\mathit{Trusts} (A,B)\n",
      "\\end{equation}\n",
      "\n",
      "We first join the involved predicates:"
     ]
    },
    {
     "cell_type": "code",
     "collapsed": false,
     "input": [
      "ground_rules = [(knows_rel[(person1, person2)],\n",
      "                 knows_rel[(person2, person1)],\n",
      "                 trusts_rel[(person2, person1)],\n",
      "                 trusts_rel[(person1, person2)])\n",
      "                for person1 in people_rel for person2 in people_rel]"
     ],
     "language": "python",
     "metadata": {},
     "outputs": [],
     "prompt_number": 2
    },
    {
     "cell_type": "markdown",
     "metadata": {},
     "source": [
      "Now we have to add the grounded rules to the mathematical program. To do so, we give the grounded rule to the function *psl_rule*, which returns a variable which represents the distance to satisfaction for that rule. We have to add this variable to the objective function. \n",
      "\n",
      "The function *psl_rule* assumes that we have a rule in the form:\n",
      "\n",
      "\\begin{equation}\n",
      "    B_1 \\land B_2 \\land \\ldots \\land B_n \\to H\n",
      "\\end{equation}\n",
      "\n",
      "The first argument of *psl_rule* is the mathematical problem. The second argument is the list of variables that represent the predicates in the body. The third argument is the variable representing the head. The fourth argument is a list of booleans which specifies which predicates in the body are negated. The fifth argument determines whether or not the predicate in head is negated."
     ]
    },
    {
     "cell_type": "code",
     "collapsed": false,
     "input": [
      "weight1 = 1\n",
      "for P1, P2, P3, P4 in ground_rules:\n",
      "    Dist = psl_rule(opt_prob, [P1, P2, P3], P4, [False, False, True], True)\n",
      "    opt_prob.add_to_objective(Dist, weight1)"
     ],
     "language": "python",
     "metadata": {},
     "outputs": [],
     "prompt_number": 3
    },
    {
     "cell_type": "markdown",
     "metadata": {},
     "source": [
      "To see more about the function *psl_rule*, have a look at this [note](http://nbviewer.ipython.org/github/bhrzslm/psl-notes/blob/master/Grounding/psl_rule.ipynb). \n",
      "\n",
      "Similarly, we can add the rules that have the *Average* function in them:\n",
      "\n",
      "\\begin{equation}\n",
      "    \\mathit{Knows}(A,B) \\land \\mathit{Average} (\\{\\mathit{Trusts}\\}) \\to \\mathit{Trusts} (A,B)\n",
      "\\end{equation}\n"
     ]
    },
    {
     "cell_type": "code",
     "collapsed": false,
     "input": [
      "import numpy as np\n",
      "\n",
      "ground_rules = [(knows_rel[(person1, person2)],\n",
      "                 trusts_rel[(person1, person2)])\n",
      "                for person1 in people_rel for person2 in people_rel]\n",
      "\n",
      "average_trust = np.mean([value for (has_value, value) in trusts_rel if has_value])\n",
      "\n",
      "weight2 = 2\n",
      "for F1, F2 in ground_rules:\n",
      "    Dist = psl_rule(opt_prob, [F1, (True, average_trust)], F2, [False, False], False)\n",
      "    opt_prob.add_to_objective(Dist, weight2)"
     ],
     "language": "python",
     "metadata": {},
     "outputs": [],
     "prompt_number": 4
    },
    {
     "cell_type": "markdown",
     "metadata": {},
     "source": [
      "When we are done adding the rules, we can perform the MPE inference by solving the linear program:"
     ]
    },
    {
     "cell_type": "code",
     "collapsed": false,
     "input": [
      "opt_prob.pulp_solve()\n",
      "write_trust_mpe('knows_infer.csv', 'trusts_infer.csv', \n",
      "                people_rel, knows_rel, trusts_rel, opt_prob)"
     ],
     "language": "python",
     "metadata": {},
     "outputs": [],
     "prompt_number": 14
    },
    {
     "cell_type": "markdown",
     "metadata": {},
     "source": [
      "We are done! To show how easily we can represent a PSL program even by this basic implementation, I have encoded a larger program with 9 rules in this [note](http://nbviewer.ipython.org/github/bhrzslm/psl-notes/blob/master/Grounding/example_program.ipynb)."
     ]
    }
   ],
   "metadata": {}
  }
 ]
}