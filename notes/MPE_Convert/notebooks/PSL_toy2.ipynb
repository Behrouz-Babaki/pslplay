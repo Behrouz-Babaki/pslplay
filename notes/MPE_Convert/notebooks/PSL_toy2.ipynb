{
 "metadata": {
  "name": ""
 },
 "nbformat": 3,
 "nbformat_minor": 0,
 "worksheets": [
  {
   "cells": [
    {
     "cell_type": "markdown",
     "metadata": {},
     "source": [
      "Now let's move to a larger example:\n",
      "\n",
      "\\begin{align}\n",
      "\\mathit{Min.} \\, dr_1 + dr_2 + dr_3 + dr_4 & \\\\\n",
      "& {dr}_1 \\geq Q_1 - x \\\\\n",
      "& {dr}_2 \\geq Q_2 - y \\\\\n",
      "& {dr}_3 \\geq Q_3 - x \\\\\n",
      "& {dr}_4 \\geq Q_4 -y \\\\\n",
      "& Q_1 = Q_4 = \\frac{1}{3+x} \\\\\n",
      "& Q_2 = Q_3 = \\frac{1}{1+y} \\\\\n",
      "& 0 \\leq x \\leq 1 \\\\\n",
      "& 0 \\leq y \\leq 1 \\\\\n",
      "& 0 \\leq Q_1 \\leq 1 \\\\\n",
      "& 0 \\leq Q_2 \\leq 1 \\\\\n",
      "& 0 \\leq Q_3 \\leq 1 \\\\\n",
      "& 0 \\leq Q_4 \\leq 1 \\\\\n",
      "& 0 \\leq {dr}_1 \\\\\n",
      "& 0 \\leq {dr}_2 \\\\\n",
      "& 0 \\leq {dr}_3 \\\\\n",
      "& 0 \\leq {dr}_4 \n",
      "\\end{align}\n",
      "\n",
      "First we will do some very simple transformations to represent the problem in the standard format. We rename the variables according to this table (note that we are merging $Q_1$ and $Q_4$ into $x_6$ and $Q_2$ and $Q_3$ into $x_7$).\n",
      "\n",
      "|$x$|$y$|${dr}_1$|${dr}_2$|${dr}_3$|${dr}_4$|$Q_1$|$Q_2$|$Q_3$|$Q_4$|\n",
      "|---|---|--------|--------|--------|--------|-----|-----|-----|-----|\n",
      "|$x_0$|$x_1$|$x_2$|$x_3$|$x_4$|$x_5$|$x_6$|$x_7$|$x_7$|$x_6$|\n",
      "\n",
      "\n",
      "The transformed problem is:\n",
      "\n",
      "\\begin{align}\n",
      "\\mathit{Min.} \\, x_2 + x_3 + x_4 + x_5 & \\\\\n",
      "& x_6 \\times (x_0 + 3) - 1 = 0 \\\\\n",
      "& x_7 \\times (x_1 + 1) - 1 = 0 \\\\\n",
      "& -x_0 - x_2 + x_6 \\leq 0 \\\\\n",
      "& -x_1 - x_3 + x_7 \\leq 0 \\\\\n",
      "& -x_0 -x_4 + x_7 \\leq 0 \\\\\n",
      "& -x_1 - x_5 + x_6 \\leq 0 \\\\\n",
      "& 0 \\leq x_0, x_1, x_6, x_7 \\leq 1 \\\\\n",
      "& 0 \\leq x_2, x_3, x_4, x_5 \n",
      "\\end{align}\n",
      "\n",
      "Now we can directly give this to pyOpt"
     ]
    },
    {
     "cell_type": "code",
     "collapsed": false,
     "input": [
      "import pyOpt\n",
      "\n",
      "def toy_obj(x):\n",
      "    f = x[2] + x[3] + x[4] + x[5]\n",
      "    g = [0.0]*6\n",
      "    g[0] = x[6]*(x[0]+3)-1\n",
      "    g[1] = x[7]*(x[1]+1)-1\n",
      "    g[2] = -x[0] -x[2] + x[6]\n",
      "    g[3] = -x[1] -x[3] + x[7]\n",
      "    g[4] = -x[0] -x[4] + x[7]\n",
      "    g[5] = -x[1] -x[5] + x[6]\n",
      "    \n",
      "    fail = 0\n",
      "    return f, g, fail"
     ],
     "language": "python",
     "metadata": {},
     "outputs": [],
     "prompt_number": 1
    },
    {
     "cell_type": "markdown",
     "metadata": {},
     "source": [
      "the function *toy_obj* provides the objective function (as *f*) and constraints (as list *g*) to the solver. Next, we set up an optimization problem. When declaring the optimization variables, we also set their bounds:"
     ]
    },
    {
     "cell_type": "code",
     "collapsed": false,
     "input": [
      "opt_prob = pyOpt.Optimization('toy example', toy_obj)\n",
      "opt_prob.addObj('f')\n",
      "opt_prob.addVar('x0', 'c', lower=0.0, upper=1.0, value=0.5)\n",
      "opt_prob.addVar('x1', 'c', lower=0.0, upper=1.0, value=0.5)\n",
      "opt_prob.addVar('x2', 'c', lower=0.0, value=0.5)\n",
      "opt_prob.addVar('x3', 'c', lower=0.0, value=0.5)\n",
      "opt_prob.addVar('x4', 'c', lower=0.0, value=0.5)\n",
      "opt_prob.addVar('x5', 'c', lower=0.0, value=0.5)\n",
      "opt_prob.addVar('x6', 'c', lower=0.0, upper=1.0, value=0.5)\n",
      "opt_prob.addVar('x7', 'c', lower=0.0, upper=1.0, value=0.5)"
     ],
     "language": "python",
     "metadata": {},
     "outputs": [],
     "prompt_number": 2
    },
    {
     "cell_type": "markdown",
     "metadata": {},
     "source": [
      "Next step is declaring the constraints and their types:"
     ]
    },
    {
     "cell_type": "code",
     "collapsed": false,
     "input": [
      "opt_prob.addCon('g0', 'e')\n",
      "opt_prob.addCon('g1', 'e')\n",
      "opt_prob.addCon('g2', 'i')\n",
      "opt_prob.addCon('g3', 'i')\n",
      "opt_prob.addCon('g4', 'i')\n",
      "opt_prob.addCon('g5', 'i')"
     ],
     "language": "python",
     "metadata": {},
     "outputs": [],
     "prompt_number": 3
    },
    {
     "cell_type": "markdown",
     "metadata": {},
     "source": [
      "Finally, we choose the optimization method and solve the problem:"
     ]
    },
    {
     "cell_type": "code",
     "collapsed": false,
     "input": [
      "slsqp = pyOpt.SLSQP()\n",
      "slsqp.setOption('IPRINT', -1)\n",
      "[fstr, xstr, inform] = slsqp(opt_prob, sens_type='FD')\n",
      "print opt_prob.solution(0)"
     ],
     "language": "python",
     "metadata": {},
     "outputs": [
      {
       "output_type": "stream",
       "stream": "stdout",
       "text": [
        "\n",
        "SLSQP Solution to toy example\n",
        "================================================================================\n",
        "\n",
        "        Objective Function: toy_obj\n",
        "\n",
        "    Solution: \n",
        "--------------------------------------------------------------------------------\n",
        "    Total Time:                    0.0010\n",
        "    Total Function Evaluations:          \n",
        "    Sensitivities:        FD\n",
        "\n",
        "    Objectives:\n",
        "        Name        Value        Optimum\n",
        "\t     f     3.52484e-14             0\n",
        "\n",
        "\tVariables (c - continuous, i - integer, d - discrete):\n",
        "        Name    Type       Value       Lower Bound  Upper Bound\n",
        "\t     x0       c\t      0.625195       0.00e+00     1.00e+00 \n",
        "\t     x1       c\t      0.621577       0.00e+00     1.00e+00 \n",
        "\t     x2       c\t      0.000000       0.00e+00     1.00e+21 \n",
        "\t     x3       c\t      0.000000       0.00e+00     1.00e+21 \n",
        "\t     x4       c\t      0.000000       0.00e+00     1.00e+21 \n",
        "\t     x5       c\t      0.000000       0.00e+00     1.00e+21 \n",
        "\t     x6       c\t      0.275847       0.00e+00     1.00e+00 \n",
        "\t     x7       c\t      0.616684       0.00e+00     1.00e+00 \n",
        "\n",
        "\tConstraints (i - inequality, e - equality):\n",
        "        Name    Type                    Bounds\n",
        "\t     g0       e                0.000000 = 0.00e+00\n",
        "\t     g1       e                0.000000 = 0.00e+00\n",
        "\t     g2   \t  i       -1.00e+21 <= -0.349347 <= 0.00e+00\n",
        "\t     g3   \t  i       -1.00e+21 <= -0.004894 <= 0.00e+00\n",
        "\t     g4   \t  i       -1.00e+21 <= -0.008511 <= 0.00e+00\n",
        "\t     g5   \t  i       -1.00e+21 <= -0.345730 <= 0.00e+00\n",
        "\n",
        "--------------------------------------------------------------------------------\n",
        "\n"
       ]
      }
     ],
     "prompt_number": 4
    },
    {
     "cell_type": "markdown",
     "metadata": {},
     "source": [
      "Based on the solver results, these are the optimal values:\n",
      "\n",
      "\n",
      "\\begin{equation}\n",
      "x = 0.625195 \\\\ \n",
      "y = 0.621577 \\\\ \n",
      "{dr}_1 = {dr}_2 = {dr}_3 = {dr}_4 = 0 \\\\\n",
      "Q_1 = Q_4 =  0.275847\\\\\n",
      "Q_2 = Q_3 =  0.616684\n",
      "\\end{equation}\n",
      "\n"
     ]
    }
   ],
   "metadata": {}
  }
 ]
}